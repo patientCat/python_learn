{
 "cells": [
  {
   "cell_type": "code",
   "execution_count": null,
   "metadata": {
    "collapsed": true,
    "pycharm": {
     "is_executing": true
    }
   },
   "outputs": [],
   "source": [
    "import torch\n",
    "from torchvision import transforms\n",
    "from torchvision import datasets\n",
    "from ModelToys import CnnModel\n",
    "from torch.utils.data import DataLoader\n",
    "from IPython.display import clear_output\n",
    "import numpy as np\n",
    "import matplotlib.pyplot as plt"
   ]
  },
  {
   "cell_type": "code",
   "execution_count": null,
   "outputs": [],
   "source": [
    "norm_transform = \\\n",
    "    transforms.Compose([transforms.ToTensor(), transforms.Normalize((0.1307,), (0.3081,))])\n",
    "# prepare data\n",
    "train_data = datasets.MNIST(\"../data/\", train=True, transform=norm_transform, download=False)\n",
    "test_data_xy = datasets.MNIST(\"../data/\", train=False, transform=norm_transform, download=False)\n",
    "print(len(train_data))\n",
    "print(train_data[0])\n",
    "datasize = len(train_data)"
   ],
   "metadata": {
    "collapsed": false,
    "pycharm": {
     "name": "#%%\n",
     "is_executing": true
    }
   }
  },
  {
   "cell_type": "code",
   "execution_count": null,
   "outputs": [],
   "source": [
    "batch_size = 500\n",
    "train_data_loader = DataLoader(dataset=train_data, batch_size=batch_size, shuffle=True, num_workers=4)\n",
    "test_data_loader = DataLoader(dataset=test_data_xy, shuffle=True, num_workers=0)"
   ],
   "metadata": {
    "collapsed": false,
    "pycharm": {
     "name": "#%%\n",
     "is_executing": true
    }
   }
  },
  {
   "cell_type": "code",
   "execution_count": null,
   "outputs": [],
   "source": [
    "# build model\n",
    "model = CnnModel()"
   ],
   "metadata": {
    "collapsed": false,
    "pycharm": {
     "name": "#%%\n",
     "is_executing": true
    }
   }
  },
  {
   "cell_type": "code",
   "execution_count": null,
   "outputs": [],
   "source": [
    "optim_f = torch.optim.SGD(model.parameters(), lr=0.01, momentum=0.5)\n",
    "loss_f = torch.nn.CrossEntropyLoss(size_average=True)\n"
   ],
   "metadata": {
    "collapsed": false,
    "pycharm": {
     "name": "#%%\n",
     "is_executing": true
    }
   }
  },
  {
   "cell_type": "code",
   "execution_count": null,
   "outputs": [],
   "source": [
    "epoch = 20\n",
    "loss_history = []\n",
    "for i in range(epoch):\n",
    "    curr_loss = 0\n",
    "    for idx, data in enumerate(train_data_loader):\n",
    "        data, target = data\n",
    "        print(data.__class__)\n",
    "        print(\"x=\", data.shape)\n",
    "        y_pred = model.forward(data)\n",
    "        optim_f.zero_grad()\n",
    "        loss = loss_f(y_pred, target)\n",
    "        curr_loss = loss.item()\n",
    "        loss.backward()\n",
    "        optim_f.step()\n",
    "        clear_output()\n",
    "    loss_history.append(curr_loss)\n",
    "\n"
   ],
   "metadata": {
    "collapsed": false,
    "pycharm": {
     "name": "#%%\n",
     "is_executing": true
    }
   }
  },
  {
   "cell_type": "code",
   "execution_count": null,
   "outputs": [],
   "source": [
    "iteration = int(datasize / batch_size)\n",
    "\n",
    "x = np.linspace(1, epoch, epoch)\n",
    "print(loss_history)\n",
    "\n",
    "plt.plot(x, loss_history)\n"
   ],
   "metadata": {
    "collapsed": false,
    "pycharm": {
     "name": "#%%\n",
     "is_executing": true
    }
   }
  },
  {
   "cell_type": "code",
   "execution_count": null,
   "outputs": [],
   "source": [
    "model.conv1.weight"
   ],
   "metadata": {
    "collapsed": false,
    "pycharm": {
     "name": "#%%\n"
    }
   }
  },
  {
   "cell_type": "code",
   "execution_count": null,
   "outputs": [],
   "source": [],
   "metadata": {
    "collapsed": false,
    "pycharm": {
     "name": "#%%"
    }
   }
  }
 ],
 "metadata": {
  "kernelspec": {
   "name": "demo",
   "language": "python",
   "display_name": "demo"
  },
  "language_info": {
   "codemirror_mode": {
    "name": "ipython",
    "version": 2
   },
   "file_extension": ".py",
   "mimetype": "text/x-python",
   "name": "python",
   "nbconvert_exporter": "python",
   "pygments_lexer": "ipython2",
   "version": "2.7.6"
  }
 },
 "nbformat": 4,
 "nbformat_minor": 0
}