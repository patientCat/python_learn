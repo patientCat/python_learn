{
 "cells": [
  {
   "cell_type": "code",
   "execution_count": 1,
   "id": "initial_id",
   "metadata": {
    "collapsed": true,
    "ExecuteTime": {
     "end_time": "2024-07-06T08:21:31.814024Z",
     "start_time": "2024-07-06T08:21:26.206177Z"
    }
   },
   "outputs": [
    {
     "name": "stderr",
     "output_type": "stream",
     "text": [
      "/Users/luke/miniconda3/envs/demo/lib/python3.8/site-packages/torchvision/io/image.py:13: UserWarning: Failed to load image Python extension: 'dlopen(/Users/luke/miniconda3/envs/demo/lib/python3.8/site-packages/torchvision/image.so, 0x0006): Symbol not found: __ZN3c1017RegisterOperatorsD1Ev\n",
      "  Referenced from: <870081F6-12FD-3CEA-BC5C-30F4764F2A98> /Users/luke/miniconda3/envs/demo/lib/python3.8/site-packages/torchvision/image.so\n",
      "  Expected in:     <F3CB84DE-97C1-34D2-AFB8-54D9DA60ADCD> /Users/luke/miniconda3/envs/demo/lib/python3.8/site-packages/torch/lib/libtorch_cpu.dylib'If you don't plan on using image functionality from `torchvision.io`, you can ignore this warning. Otherwise, there might be something wrong with your environment. Did you have `libjpeg` or `libpng` installed before building `torchvision` from source?\n",
      "  warn(\n"
     ]
    }
   ],
   "source": [
    "import dataplumbing as dp\n",
    "import torch\n",
    "import torchmetrics"
   ]
  },
  {
   "cell_type": "code",
   "outputs": [],
   "source": [
    "class SelfAttentionModel(torch.nn.Module):\n",
    "  def __init__(self, num_steps, num_channels, num_outputs, **kwargs):\n",
    "    super().__init__(**kwargs)\n",
    "\n",
    "    # Initialize components for self-attention\n",
    "    #\n",
    "    self.K = torch.nn.Parameter((2.0*torch.rand(num_channels, num_channels)-1.0)/num_channels**0.5) # Randomly intialize each weight uniformly from [ -1/num_channels**0.5, 1/num_channels**0.5 ]\n",
    "    self.Q = torch.nn.Parameter((2.0*torch.rand(num_channels, num_channels)-1.0)/num_channels**0.5)\n",
    "    self.V = torch.nn.Parameter((2.0*torch.rand(num_channels, num_channels)-1.0)/num_channels**0.5)\n",
    "\n",
    "    self.softmax = torch.nn.Softmax(dim=1)\n",
    "\n",
    "    # Initialize output layer\n",
    "    #\n",
    "    self.out = torch.nn.Linear(num_steps*num_channels, num_outputs)\n",
    "  def forward(self, x):\n",
    "    batch_size, num_steps, num_channels = x.shape\n",
    "    # Run self attention\n",
    "    #\n",
    "    y = []\n",
    "    for i in range(batch_size): # Process one sample at a time\n",
    "\n",
    "      x_i = x[i,:,:] # x_i has shape of [ num_steps, num_channels ]\n",
    "\n",
    "      x_k_i = torch.matmul(x_i, self.K) # x_k_i has shape of [ num_steps, num_channels ]\n",
    "      x_q_i = torch.matmul(x_i, self.Q) # x_q_i has shape of [ num_steps, num_channels ]\n",
    "      x_v_i = torch.matmul(x_i, self.V) # x_v_i has shape of [ num_steps, num_channels ]\n",
    "\n",
    "      w_i = self.softmax(torch.matmul(x_q_i, x_k_i.T)/num_channels**0.5) # w_i has shape of [ num_steps, num_steps ]\n",
    "      y_i = torch.matmul(w_i, x_v_i) # y_i has shape of [ num_steps, num_channels ]\n",
    "\n",
    "      y.append(y_i)\n",
    "    y = torch.stack(y, axis=0) # y has shape of [ batch_size, num_steps, num_channels ]\n",
    "\n",
    "    # Flatten output\n",
    "    #\n",
    "    y_flat = y.reshape([ batch_size, num_steps*num_channels ]) # y_flat has shape of [ batch_size, num_steps*num_channels ]\n",
    "\n",
    "    # Run output layer\n",
    "    #\n",
    "    l = self.out(y_flat) # l has shape of [ batch_size, num_outputs ]\n",
    "\n",
    "    return l"
   ],
   "metadata": {
    "collapsed": false
   },
   "id": "29453ce1b83a24e9"
  },
  {
   "cell_type": "code",
   "outputs": [],
   "source": [
    "## 准备开始训练网络\n",
    "model = SelfAttentionModel(num_steps=28**2, num_channels=1, num_outputs=10)\n",
    "probability = torch.nn.Softmax(dim=1)\n",
    "\n",
    "loss = torch.nn.CrossEntropyLoss()\n",
    "accuracy = torchmetrics.classification.MulticlassAccuracy(num_classes=10)\n",
    "\n",
    "optimizer = torch.optim.Adam(model.parameters(), lr=0.01)"
   ],
   "metadata": {
    "collapsed": false
   },
   "id": "c2e699e502eac440"
  }
 ],
 "metadata": {
  "kernelspec": {
   "display_name": "Python 3",
   "language": "python",
   "name": "python3"
  },
  "language_info": {
   "codemirror_mode": {
    "name": "ipython",
    "version": 2
   },
   "file_extension": ".py",
   "mimetype": "text/x-python",
   "name": "python",
   "nbconvert_exporter": "python",
   "pygments_lexer": "ipython2",
   "version": "2.7.6"
  }
 },
 "nbformat": 4,
 "nbformat_minor": 5
}
