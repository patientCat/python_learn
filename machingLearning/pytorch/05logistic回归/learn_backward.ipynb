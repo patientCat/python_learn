{
 "cells": [
  {
   "cell_type": "code",
   "execution_count": 68,
   "id": "275d39f8-518f-460d-95a7-78508aca93b4",
   "metadata": {
    "slideshow": {
     "slide_type": ""
    },
    "tags": []
   },
   "outputs": [],
   "source": [
    "import numpy as np\n",
    "import torch.nn.functional as F\n",
    "import torch\n",
    "import matplotlib.pyplot as plt"
   ]
  },
  {
   "cell_type": "code",
   "execution_count": 46,
   "id": "9f168d61-e51a-445d-ac54-54dabb522f22",
   "metadata": {},
   "outputs": [
    {
     "data": {
      "text/plain": "'\\n真正开始使用torch去生成网络，不再手动计算了\\n'"
     },
     "execution_count": 46,
     "metadata": {},
     "output_type": "execute_result"
    }
   ],
   "source": [
    "\"\"\"\n",
    "真正开始使用torch去生成网络，不再手动计算了\n",
    "\"\"\""
   ]
  },
  {
   "cell_type": "code",
   "execution_count": 46,
   "id": "b7ad53e8",
   "metadata": {},
   "outputs": [],
   "source": []
  },
  {
   "cell_type": "code",
   "execution_count": 47,
   "id": "5883e69c-d6c7-4c64-b7ba-20f1871596a0",
   "metadata": {},
   "outputs": [
    {
     "name": "stdout",
     "output_type": "stream",
     "text": [
      "[[1. 0.]\n",
      " [2. 0.]\n",
      " [3. 0.]\n",
      " [4. 1.]\n",
      " [5. 1.]]\n"
     ]
    }
   ],
   "source": [
    "input = np.loadtxt(\"data.txt\",delimiter=',',dtype=np.double)\n",
    "print(input)"
   ]
  },
  {
   "cell_type": "code",
   "execution_count": 48,
   "id": "3266ca79-59de-4871-a9ad-caf61c4c9c4b",
   "metadata": {},
   "outputs": [],
   "source": [
    "class LogisticRegressionModel(torch.nn.Module):\n",
    "    def __init__(self):\n",
    "        super().__init__()\n",
    "        self.linear = torch.nn.Linear(1, 1)\n",
    "    def forward(self, x):\n",
    "        y_pred = F.sigmoid(x)\n",
    "        return y_pred"
   ]
  },
  {
   "cell_type": "code",
   "execution_count": 49,
   "id": "40838cfc-d235-4ea9-8830-6f7daa0126b2",
   "metadata": {},
   "outputs": [
    {
     "name": "stderr",
     "output_type": "stream",
     "text": [
      "/Users/luke/miniconda3/envs/demo/lib/python3.8/site-packages/torch/nn/_reduction.py:42: UserWarning: size_average and reduce args will be deprecated, please use reduction='sum' instead.\n",
      "  warnings.warn(warning.format(ret))\n"
     ]
    }
   ],
   "source": [
    "model = LogisticRegressionModel()\n",
    "criterion = torch.nn.BCELoss(size_average=False)\n",
    "optimizer = torch.optim.SGD(model.parameters(), lr=0.01)\n"
   ]
  },
  {
   "cell_type": "code",
   "execution_count": 50,
   "id": "d4d2c41c-fd63-4a24-8b96-202c386c4bd1",
   "metadata": {},
   "outputs": [],
   "source": [
    "x_data_np = input[:,0:1]\n",
    "y_data_np = input[:,1:]"
   ]
  },
  {
   "cell_type": "code",
   "execution_count": 51,
   "id": "b2eb4e7c-0887-470a-be02-b33bb9126c9d",
   "metadata": {},
   "outputs": [
    {
     "name": "stdout",
     "output_type": "stream",
     "text": [
      "x_data=tensor([[1.],\n",
      "        [2.],\n",
      "        [3.],\n",
      "        [4.],\n",
      "        [5.]], dtype=torch.float64), y_data=tensor([[0.],\n",
      "        [0.],\n",
      "        [0.],\n",
      "        [1.],\n",
      "        [1.]], dtype=torch.float64)\n"
     ]
    }
   ],
   "source": [
    "x_data = torch.from_numpy(x_data_np)\n",
    "y_data = torch.from_numpy(y_data_np)\n",
    "print(f\"x_data={x_data}, y_data={y_data}\")"
   ]
  },
  {
   "cell_type": "code",
   "execution_count": 52,
   "outputs": [
    {
     "data": {
      "text/plain": "5"
     },
     "execution_count": 52,
     "metadata": {},
     "output_type": "execute_result"
    }
   ],
   "source": [
    "n_row = input.shape[0]\n",
    "n_row"
   ],
   "metadata": {
    "collapsed": false,
    "pycharm": {
     "name": "#%%\n"
    }
   }
  },
  {
   "cell_type": "code",
   "execution_count": 53,
   "outputs": [
    {
     "data": {
      "text/plain": "tensor([[0.],\n        [0.],\n        [0.],\n        [1.],\n        [1.]], dtype=torch.float64)"
     },
     "execution_count": 53,
     "metadata": {},
     "output_type": "execute_result"
    }
   ],
   "source": [
    "x_data = x_data.view(n_row, 1)\n",
    "x_data\n",
    "x_data.requires_grad=True\n",
    "y_data = y_data.view(n_row, 1)\n",
    "y_data"
   ],
   "metadata": {
    "collapsed": false,
    "pycharm": {
     "name": "#%%\n"
    }
   }
  },
  {
   "cell_type": "code",
   "execution_count": 54,
   "id": "e1332819-15bf-4b3b-bf0e-9dd2451f49b0",
   "metadata": {},
   "outputs": [],
   "source": [
    "epoch = 100"
   ]
  },
  {
   "cell_type": "code",
   "execution_count": 55,
   "id": "62ce6fb1-607a-44cb-b131-43338965f6d7",
   "metadata": {},
   "outputs": [
    {
     "name": "stdout",
     "output_type": "stream",
     "text": [
      "loss.item=6.513642326541866\n",
      "loss.item=6.513642326541866\n",
      "loss.item=6.513642326541866\n",
      "loss.item=6.513642326541866\n",
      "loss.item=6.513642326541866\n",
      "loss.item=6.513642326541866\n",
      "loss.item=6.513642326541866\n",
      "loss.item=6.513642326541866\n",
      "loss.item=6.513642326541866\n",
      "loss.item=6.513642326541866\n",
      "loss.item=6.513642326541866\n",
      "loss.item=6.513642326541866\n",
      "loss.item=6.513642326541866\n",
      "loss.item=6.513642326541866\n",
      "loss.item=6.513642326541866\n",
      "loss.item=6.513642326541866\n",
      "loss.item=6.513642326541866\n",
      "loss.item=6.513642326541866\n",
      "loss.item=6.513642326541866\n",
      "loss.item=6.513642326541866\n",
      "loss.item=6.513642326541866\n",
      "loss.item=6.513642326541866\n",
      "loss.item=6.513642326541866\n",
      "loss.item=6.513642326541866\n",
      "loss.item=6.513642326541866\n",
      "loss.item=6.513642326541866\n",
      "loss.item=6.513642326541866\n",
      "loss.item=6.513642326541866\n",
      "loss.item=6.513642326541866\n",
      "loss.item=6.513642326541866\n",
      "loss.item=6.513642326541866\n",
      "loss.item=6.513642326541866\n",
      "loss.item=6.513642326541866\n",
      "loss.item=6.513642326541866\n",
      "loss.item=6.513642326541866\n",
      "loss.item=6.513642326541866\n",
      "loss.item=6.513642326541866\n",
      "loss.item=6.513642326541866\n",
      "loss.item=6.513642326541866\n",
      "loss.item=6.513642326541866\n",
      "loss.item=6.513642326541866\n",
      "loss.item=6.513642326541866\n",
      "loss.item=6.513642326541866\n",
      "loss.item=6.513642326541866\n",
      "loss.item=6.513642326541866\n",
      "loss.item=6.513642326541866\n",
      "loss.item=6.513642326541866\n",
      "loss.item=6.513642326541866\n",
      "loss.item=6.513642326541866\n",
      "loss.item=6.513642326541866\n",
      "loss.item=6.513642326541866\n",
      "loss.item=6.513642326541866\n",
      "loss.item=6.513642326541866\n",
      "loss.item=6.513642326541866\n",
      "loss.item=6.513642326541866\n",
      "loss.item=6.513642326541866\n",
      "loss.item=6.513642326541866\n",
      "loss.item=6.513642326541866\n",
      "loss.item=6.513642326541866\n",
      "loss.item=6.513642326541866\n",
      "loss.item=6.513642326541866\n",
      "loss.item=6.513642326541866\n",
      "loss.item=6.513642326541866\n",
      "loss.item=6.513642326541866\n",
      "loss.item=6.513642326541866\n",
      "loss.item=6.513642326541866\n",
      "loss.item=6.513642326541866\n",
      "loss.item=6.513642326541866\n",
      "loss.item=6.513642326541866\n",
      "loss.item=6.513642326541866\n",
      "loss.item=6.513642326541866\n",
      "loss.item=6.513642326541866\n",
      "loss.item=6.513642326541866\n",
      "loss.item=6.513642326541866\n",
      "loss.item=6.513642326541866\n",
      "loss.item=6.513642326541866\n",
      "loss.item=6.513642326541866\n",
      "loss.item=6.513642326541866\n",
      "loss.item=6.513642326541866\n",
      "loss.item=6.513642326541866\n",
      "loss.item=6.513642326541866\n",
      "loss.item=6.513642326541866\n",
      "loss.item=6.513642326541866\n",
      "loss.item=6.513642326541866\n",
      "loss.item=6.513642326541866\n",
      "loss.item=6.513642326541866\n",
      "loss.item=6.513642326541866\n",
      "loss.item=6.513642326541866\n",
      "loss.item=6.513642326541866\n",
      "loss.item=6.513642326541866\n",
      "loss.item=6.513642326541866\n",
      "loss.item=6.513642326541866\n",
      "loss.item=6.513642326541866\n",
      "loss.item=6.513642326541866\n",
      "loss.item=6.513642326541866\n",
      "loss.item=6.513642326541866\n",
      "loss.item=6.513642326541866\n",
      "loss.item=6.513642326541866\n",
      "loss.item=6.513642326541866\n",
      "loss.item=6.513642326541866\n"
     ]
    }
   ],
   "source": [
    "for i in range(epoch):\n",
    "    y_pred = model(x_data)\n",
    "    loss = criterion(y_pred, y_data)\n",
    "    # print(f\"loss.item={loss.item()}\")\n",
    "    optimizer.zero_grad()\n",
    "    loss.backward()\n",
    "    optimizer.step()"
   ]
  },
  {
   "cell_type": "code",
   "execution_count": 78,
   "id": "725ecdeb-979c-4613-b011-ae00e0b5e286",
   "metadata": {},
   "outputs": [
    {
     "data": {
      "text/plain": "array([-10.        ,  -9.89949749,  -9.79899497,  -9.69849246,\n        -9.59798995,  -9.49748744,  -9.39698492,  -9.29648241,\n        -9.1959799 ,  -9.09547739,  -8.99497487,  -8.89447236,\n        -8.79396985,  -8.69346734,  -8.59296482,  -8.49246231,\n        -8.3919598 ,  -8.29145729,  -8.19095477,  -8.09045226,\n        -7.98994975,  -7.88944724,  -7.78894472,  -7.68844221,\n        -7.5879397 ,  -7.48743719,  -7.38693467,  -7.28643216,\n        -7.18592965,  -7.08542714,  -6.98492462,  -6.88442211,\n        -6.7839196 ,  -6.68341709,  -6.58291457,  -6.48241206,\n        -6.38190955,  -6.28140704,  -6.18090452,  -6.08040201,\n        -5.9798995 ,  -5.87939698,  -5.77889447,  -5.67839196,\n        -5.57788945,  -5.47738693,  -5.37688442,  -5.27638191,\n        -5.1758794 ,  -5.07537688,  -4.97487437,  -4.87437186,\n        -4.77386935,  -4.67336683,  -4.57286432,  -4.47236181,\n        -4.3718593 ,  -4.27135678,  -4.17085427,  -4.07035176,\n        -3.96984925,  -3.86934673,  -3.76884422,  -3.66834171,\n        -3.5678392 ,  -3.46733668,  -3.36683417,  -3.26633166,\n        -3.16582915,  -3.06532663,  -2.96482412,  -2.86432161,\n        -2.7638191 ,  -2.66331658,  -2.56281407,  -2.46231156,\n        -2.36180905,  -2.26130653,  -2.16080402,  -2.06030151,\n        -1.95979899,  -1.85929648,  -1.75879397,  -1.65829146,\n        -1.55778894,  -1.45728643,  -1.35678392,  -1.25628141,\n        -1.15577889,  -1.05527638,  -0.95477387,  -0.85427136,\n        -0.75376884,  -0.65326633,  -0.55276382,  -0.45226131,\n        -0.35175879,  -0.25125628,  -0.15075377,  -0.05025126,\n         0.05025126,   0.15075377,   0.25125628,   0.35175879,\n         0.45226131,   0.55276382,   0.65326633,   0.75376884,\n         0.85427136,   0.95477387,   1.05527638,   1.15577889,\n         1.25628141,   1.35678392,   1.45728643,   1.55778894,\n         1.65829146,   1.75879397,   1.85929648,   1.95979899,\n         2.06030151,   2.16080402,   2.26130653,   2.36180905,\n         2.46231156,   2.56281407,   2.66331658,   2.7638191 ,\n         2.86432161,   2.96482412,   3.06532663,   3.16582915,\n         3.26633166,   3.36683417,   3.46733668,   3.5678392 ,\n         3.66834171,   3.76884422,   3.86934673,   3.96984925,\n         4.07035176,   4.17085427,   4.27135678,   4.3718593 ,\n         4.47236181,   4.57286432,   4.67336683,   4.77386935,\n         4.87437186,   4.97487437,   5.07537688,   5.1758794 ,\n         5.27638191,   5.37688442,   5.47738693,   5.57788945,\n         5.67839196,   5.77889447,   5.87939698,   5.9798995 ,\n         6.08040201,   6.18090452,   6.28140704,   6.38190955,\n         6.48241206,   6.58291457,   6.68341709,   6.7839196 ,\n         6.88442211,   6.98492462,   7.08542714,   7.18592965,\n         7.28643216,   7.38693467,   7.48743719,   7.5879397 ,\n         7.68844221,   7.78894472,   7.88944724,   7.98994975,\n         8.09045226,   8.19095477,   8.29145729,   8.3919598 ,\n         8.49246231,   8.59296482,   8.69346734,   8.79396985,\n         8.89447236,   8.99497487,   9.09547739,   9.1959799 ,\n         9.29648241,   9.39698492,   9.49748744,   9.59798995,\n         9.69849246,   9.79899497,   9.89949749,  10.        ])"
     },
     "execution_count": 78,
     "metadata": {},
     "output_type": "execute_result"
    }
   ],
   "source": [
    "x = np.linspace(-10, 10, 200)\n",
    "x"
   ]
  },
  {
   "cell_type": "code",
   "execution_count": 79,
   "outputs": [],
   "source": [
    "x_t = torch.Tensor(x).view(200, 1)\n",
    "y_t = model(x_t)"
   ],
   "metadata": {
    "collapsed": false,
    "pycharm": {
     "name": "#%%\n"
    }
   }
  },
  {
   "cell_type": "code",
   "execution_count": 82,
   "id": "45e4b334-478d-4fce-ae3e-a9f7033ccb2b",
   "metadata": {
    "pycharm": {
     "name": "#%%\n"
    }
   },
   "outputs": [
    {
     "data": {
      "text/plain": "[<matplotlib.lines.Line2D at 0x7fc10a027910>]"
     },
     "execution_count": 82,
     "metadata": {},
     "output_type": "execute_result"
    },
    {
     "data": {
      "text/plain": "<Figure size 640x480 with 1 Axes>",
      "image/png": "[encoded data removed]"
     },
     "metadata": {},
     "output_type": "display_data"
    }
   ],
   "source": [
    "z_t = torch.ones([200, 1]) * 0.5\n",
    "plt.plot(x_t, y_t)\n",
    "plt.plot(x_t, z_t)\n"
   ]
  }
 ],
 "metadata": {
  "kernelspec": {
   "display_name": "demo",
   "language": "python",
   "name": "demo"
  },
  "language_info": {
   "codemirror_mode": {
    "name": "ipython",
    "version": 3
   },
   "file_extension": ".py",
   "mimetype": "text/x-python",
   "name": "python",
   "nbconvert_exporter": "python",
   "pygments_lexer": "ipython3",
   "version": "3.8.18"
  }
 },
 "nbformat": 4,
 "nbformat_minor": 5
}