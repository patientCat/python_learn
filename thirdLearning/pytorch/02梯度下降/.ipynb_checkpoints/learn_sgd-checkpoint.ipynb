{
 "cells": [
  {
   "cell_type": "code",
   "execution_count": 1,
   "id": "275d39f8-518f-460d-95a7-78508aca93b4",
   "metadata": {
    "slideshow": {
     "slide_type": ""
    },
    "tags": []
   },
   "outputs": [],
   "source": [
    "import numpy as np\n",
    "import matplotlib.pyplot as plt"
   ]
  },
  {
   "cell_type": "code",
   "execution_count": 2,
   "id": "9f168d61-e51a-445d-ac54-54dabb522f22",
   "metadata": {},
   "outputs": [
    {
     "data": {
      "text/plain": [
       "'\\n利用梯度下降法\\n使用随机梯度下降，并加入mini-batch\\n'"
      ]
     },
     "execution_count": 2,
     "metadata": {},
     "output_type": "execute_result"
    }
   ],
   "source": [
    "\"\"\"\n",
    "利用梯度下降法\n",
    "使用随机梯度下降，并加入mini-batch\n",
    "\"\"\""
   ]
  },
  {
   "cell_type": "code",
   "execution_count": 3,
   "id": "5883e69c-d6c7-4c64-b7ba-20f1871596a0",
   "metadata": {},
   "outputs": [
    {
     "name": "stdout",
     "output_type": "stream",
     "text": [
      "[[ 1.  2.]\n",
      " [ 2.  4.]\n",
      " [ 3.  6.]\n",
      " [ 4.  8.]\n",
      " [ 5. 10.]\n",
      " [ 6. 12.]]\n"
     ]
    }
   ],
   "source": [
    "input = np.loadtxt(\"data.txt\",delimiter=',')\n",
    "print(input)"
   ]
  },
  {
   "cell_type": "code",
   "execution_count": 5,
   "id": "99f66182-59ab-4b2d-8c41-3094c0faee97",
   "metadata": {},
   "outputs": [],
   "source": [
    "n_row = input.shape[0]"
   ]
  },
  {
   "cell_type": "code",
   "execution_count": 6,
   "id": "5df2fa67-c750-45ad-9077-e49276c50ee8",
   "metadata": {},
   "outputs": [],
   "source": [
    "# MSE 作为损失函数 MSE = 1/N * (y_hat - y)^2\n",
    "def cost(n_row, y_hat, y):\n",
    "    return 1/n_row * np.dot((y_hat - y).T , (y_hat - y))\n",
    "    \n",
    "# 梯度下降法 dcost/dw = 2/N * (y_hat - y) * dy_hat/dw = 2/N * (w * x - y) * x\n",
    "def gradient(n_row, w, alpha, x_data, y_data):\n",
    "    return w - alpha * 2/n_row * np.dot((w * x_data - y_data).T , x_data)\n"
   ]
  },
  {
   "cell_type": "code",
   "execution_count": 20,
   "id": "ed55f6f0-90ea-4d7e-9384-73b968e5ee20",
   "metadata": {},
   "outputs": [
    {
     "name": "stderr",
     "output_type": "stream",
     "text": [
      "/var/folders/_s/b1dqc5_97sv5pf5lm7cdg5y80000gn/T/ipykernel_32522/2538950945.py:25: DeprecationWarning: Conversion of an array with ndim > 0 to a scalar is deprecated, and will error in future. Ensure you extract a single element from your array before performing this operation. (Deprecated NumPy 1.25.)\n",
      "  w_change[i] = temp_w\n",
      "/var/folders/_s/b1dqc5_97sv5pf5lm7cdg5y80000gn/T/ipykernel_32522/2538950945.py:26: DeprecationWarning: Conversion of an array with ndim > 0 to a scalar is deprecated, and will error in future. Ensure you extract a single element from your array before performing this operation. (Deprecated NumPy 1.25.)\n",
      "  cost_sum[i] = temp_cost\n"
     ]
    }
   ],
   "source": [
    "# 训练\n",
    "# 给定初始值 w = 0\n",
    "w = 0\n",
    "epoch = 100\n",
    "cost_sum = np.zeros(epoch)\n",
    "w_change = np.zeros(epoch)\n",
    "tran_no = range(0, epoch)\n",
    "alpha = 0.01\n",
    "batch = 2\n",
    "for i in tran_no:\n",
    "    temp_cost = 0\n",
    "    temp_w = 0\n",
    "    # 每次取batch个\n",
    "    for k in range(0, len(input), batch):\n",
    "        batch_data = input[k:k+batch]\n",
    "        x_data = batch_data[:,0:-1]\n",
    "        y_data = batch_data[:, -1:]\n",
    "        #print(f\"x_data={x_data}, y_data={y_data}\")\n",
    "        y_hat = x_data * w\n",
    "        n_row = batch\n",
    "        cost_val = cost(n_row, y_hat, y_data)\n",
    "        w = gradient(n_row, w, alpha, x_data, y_data)\n",
    "        temp_cost = temp_cost + cost_val\n",
    "        temp_w = w\n",
    "        #print(temp_cost)   \n",
    "    w_change[i] = temp_w\n",
    "    cost_sum[i] = temp_cost\n"
   ]
  },
  {
   "cell_type": "code",
   "execution_count": 21,
   "id": "4fe28bdb-2304-401d-8fd8-b8be2aea59b6",
   "metadata": {},
   "outputs": [
    {
     "name": "stdout",
     "output_type": "stream",
     "text": [
      "(100,) (100,)\n"
     ]
    }
   ],
   "source": [
    "x_train = np.arange(epoch)\n",
    "print(cost_sum.shape, x_train.shape)\n"
   ]
  },
  {
   "cell_type": "code",
   "execution_count": 22,
   "id": "db303c07-567f-42c3-97d2-57b3e0336be7",
   "metadata": {},
   "outputs": [
    {
     "data": {
      "text/plain": [
       "Text(0, 0.5, 'cost')"
      ]
     },
     "execution_count": 22,
     "metadata": {},
     "output_type": "execute_result"
    },
    {
     "data": {
      "image/png": "[encoded data removed]",
      "text/plain": [
       "<Figure size 640x480 with 1 Axes>"
      ]
     },
     "metadata": {},
     "output_type": "display_data"
    }
   ],
   "source": [
    "plt.plot(x_train, cost_sum)\n",
    "plt.xlabel(\"train_cnt\")\n",
    "plt.ylabel(\"cost\")"
   ]
  },
  {
   "cell_type": "code",
   "execution_count": 23,
   "id": "ba5e56a5-68ff-4eff-9dc6-170fa7226aa5",
   "metadata": {},
   "outputs": [
    {
     "data": {
      "text/plain": [
       "Text(0, 0.5, 'w_change')"
      ]
     },
     "execution_count": 23,
     "metadata": {},
     "output_type": "execute_result"
    },
    {
     "data": {
      "image/png": "[encoded data removed]",
      "text/plain": [
       "<Figure size 640x480 with 1 Axes>"
      ]
     },
     "metadata": {},
     "output_type": "display_data"
    }
   ],
   "source": [
    "plt.plot(x_train, w_change)\n",
    "plt.xlabel(\"x_train\")\n",
    "plt.ylabel(\"w_change\")"
   ]
  },
  {
   "cell_type": "code",
   "execution_count": null,
   "id": "725ecdeb-979c-4613-b011-ae00e0b5e286",
   "metadata": {},
   "outputs": [],
   "source": []
  }
 ],
 "metadata": {
  "kernelspec": {
   "display_name": "demo",
   "language": "python",
   "name": "demo"
  },
  "language_info": {
   "codemirror_mode": {
    "name": "ipython",
    "version": 3
   },
   "file_extension": ".py",
   "mimetype": "text/x-python",
   "name": "python",
   "nbconvert_exporter": "python",
   "pygments_lexer": "ipython3",
   "version": "3.12.2"
  }
 },
 "nbformat": 4,
 "nbformat_minor": 5
}
