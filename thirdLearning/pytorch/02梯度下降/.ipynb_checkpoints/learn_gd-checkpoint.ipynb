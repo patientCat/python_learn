{
 "cells": [
  {
   "cell_type": "code",
   "execution_count": 1,
   "id": "275d39f8-518f-460d-95a7-78508aca93b4",
   "metadata": {
    "slideshow": {
     "slide_type": ""
    },
    "tags": []
   },
   "outputs": [],
   "source": [
    "import numpy as np\n",
    "import matplotlib.pyplot as plt"
   ]
  },
  {
   "cell_type": "code",
   "execution_count": 2,
   "id": "9f168d61-e51a-445d-ac54-54dabb522f22",
   "metadata": {},
   "outputs": [
    {
     "data": {
      "text/plain": [
       "'\\n利用梯度下降法\\n'"
      ]
     },
     "execution_count": 2,
     "metadata": {},
     "output_type": "execute_result"
    }
   ],
   "source": [
    "\"\"\"\n",
    "利用梯度下降法\n",
    "\"\"\""
   ]
  },
  {
   "cell_type": "code",
   "execution_count": 3,
   "id": "5883e69c-d6c7-4c64-b7ba-20f1871596a0",
   "metadata": {},
   "outputs": [
    {
     "name": "stdout",
     "output_type": "stream",
     "text": [
      "[[ 1.  2.]\n",
      " [ 2.  4.]\n",
      " [ 3.  6.]\n",
      " [ 4.  8.]\n",
      " [ 5. 10.]\n",
      " [ 6. 12.]]\n"
     ]
    }
   ],
   "source": [
    "input = np.loadtxt(\"data.txt\",delimiter=',')\n",
    "print(input)"
   ]
  },
  {
   "cell_type": "code",
   "execution_count": 4,
   "id": "99f66182-59ab-4b2d-8c41-3094c0faee97",
   "metadata": {},
   "outputs": [
    {
     "name": "stdout",
     "output_type": "stream",
     "text": [
      "x_data [[1.]\n",
      " [2.]\n",
      " [3.]\n",
      " [4.]\n",
      " [5.]\n",
      " [6.]]\n",
      "y_data [[ 2.]\n",
      " [ 4.]\n",
      " [ 6.]\n",
      " [ 8.]\n",
      " [10.]\n",
      " [12.]]\n"
     ]
    }
   ],
   "source": [
    "# 取第一列\n",
    "x_data = input[:, 0:1]\n",
    "# 取最后一列\n",
    "y_data = input[:, 1:]\n",
    "n_row = input.shape[0]\n",
    "\n",
    "print(\"x_data\",x_data)\n",
    "print(\"y_data\",y_data)"
   ]
  },
  {
   "cell_type": "code",
   "execution_count": 32,
   "id": "5df2fa67-c750-45ad-9077-e49276c50ee8",
   "metadata": {},
   "outputs": [],
   "source": [
    "# MSE 作为损失函数 MSE = 1/N * (y_hat - y)^2\n",
    "def cost(n_row, y_hat, y):\n",
    "    return 1/n_row * np.dot((y_hat - y).T , (y_hat - y))\n",
    "    \n",
    "# 梯度下降法 dcost/dw = 2/N * (y_hat - y) * dy_hat/dw = 2/N * (w * x - y) * x\n",
    "def gradient(n_row, w, alpha, x_data, y_data):\n",
    "    return w - alpha * 2/n_row * np.dot((w * x_data - y_data).T , x_data)\n"
   ]
  },
  {
   "cell_type": "code",
   "execution_count": 36,
   "id": "ed55f6f0-90ea-4d7e-9384-73b968e5ee20",
   "metadata": {},
   "outputs": [
    {
     "name": "stderr",
     "output_type": "stream",
     "text": [
      "/var/folders/_s/b1dqc5_97sv5pf5lm7cdg5y80000gn/T/ipykernel_12016/2575946845.py:12: DeprecationWarning: Conversion of an array with ndim > 0 to a scalar is deprecated, and will error in future. Ensure you extract a single element from your array before performing this operation. (Deprecated NumPy 1.25.)\n",
      "  cost_sum[i] = cost_val\n"
     ]
    }
   ],
   "source": [
    "# 训练\n",
    "# 给定初始值 w = 0\n",
    "w = 0\n",
    "epoch = 100\n",
    "cost_sum = np.zeros(epoch)\n",
    "tran_no = range(0, epoch)\n",
    "alpha = 0.01\n",
    "for i in tran_no:\n",
    "    y_hat = x_data * w\n",
    "    cost_val = cost(n_row, y_hat, y_data)\n",
    "    w = gradient(n_row, w, alpha, x_data, y_data)\n",
    "    cost_sum[i] = cost_val\n"
   ]
  },
  {
   "cell_type": "code",
   "execution_count": 40,
   "id": "aec12bd5-1da5-4774-a075-5fb84749a07e",
   "metadata": {},
   "outputs": [
    {
     "data": {
      "text/plain": [
       "array([6.06666667e+01, 2.94442296e+01, 1.42905933e+01, 6.93586005e+00,\n",
       "       3.36628114e+00, 1.63380585e+00, 7.92958593e-01, 3.84858048e-01,\n",
       "       1.86788715e-01, 9.06568653e-02, 4.39998059e-02, 2.13550614e-02,\n",
       "       1.03645604e-02, 5.03038181e-03, 2.44146786e-03, 1.18495286e-03,\n",
       "       5.75110290e-04, 2.79126584e-04, 1.35472537e-04, 6.57508431e-05,\n",
       "       3.19118064e-05, 1.54882180e-05, 7.51712054e-06, 3.64839269e-06,\n",
       "       1.77072712e-06, 8.59412573e-07, 4.17111118e-07, 2.02442564e-07,\n",
       "       9.82543736e-08, 4.76872144e-08, 2.31447246e-08, 1.12331635e-08,\n",
       "       5.45195349e-09, 2.64607534e-09, 1.28425796e-09, 6.23307469e-10,\n",
       "       3.02518817e-10, 1.46825827e-10, 7.12610995e-11, 3.45861788e-11,\n",
       "       1.67862097e-11, 8.14709363e-12, 3.95414663e-12, 1.91912310e-12,\n",
       "       9.31435736e-13, 4.52067159e-13, 2.19408284e-13, 1.06488592e-13,\n",
       "       5.16836464e-14, 2.50843706e-14, 1.21745599e-14, 5.90885500e-15,\n",
       "       2.86782998e-15, 1.39188533e-15, 6.75543772e-16, 3.27871438e-16,\n",
       "       1.59130585e-16, 7.72331404e-17, 3.74846646e-17, 1.81929734e-17,\n",
       "       8.82985859e-18, 4.28552040e-18, 2.07995373e-18, 1.00949331e-18,\n",
       "       4.89952508e-19, 2.37795450e-19, 1.15413088e-19, 5.60148624e-20,\n",
       "       2.71865782e-20, 1.31947369e-20, 6.40392582e-21, 3.10809986e-21,\n",
       "       1.50852071e-21, 7.32160724e-22, 3.55328956e-22, 1.72467907e-22,\n",
       "       8.36996969e-23, 4.06265989e-23, 1.97149520e-23, 9.56948406e-24,\n",
       "       4.64454611e-24, 2.25356472e-24, 1.09360383e-24, 5.30422085e-25,\n",
       "       2.57563455e-25, 1.25290217e-25, 6.07848635e-26, 2.95146145e-26,\n",
       "       1.44249544e-26, 7.08374906e-27, 3.34579740e-27, 1.62877590e-27,\n",
       "       8.30711620e-28, 3.84347824e-28, 1.91430246e-28, 8.87221999e-29,\n",
       "       4.78575616e-29, 2.51449414e-29, 1.07810990e-29, 6.28623534e-30])"
      ]
     },
     "execution_count": 40,
     "metadata": {},
     "output_type": "execute_result"
    }
   ],
   "source": [
    "cost_sum"
   ]
  },
  {
   "cell_type": "code",
   "execution_count": 41,
   "id": "4fe28bdb-2304-401d-8fd8-b8be2aea59b6",
   "metadata": {},
   "outputs": [
    {
     "name": "stdout",
     "output_type": "stream",
     "text": [
      "(100,) (100,)\n"
     ]
    }
   ],
   "source": [
    "x_train = np.arange(epoch)\n",
    "print(cost_sum.shape, x_train.shape)\n"
   ]
  },
  {
   "cell_type": "code",
   "execution_count": 42,
   "id": "db303c07-567f-42c3-97d2-57b3e0336be7",
   "metadata": {},
   "outputs": [
    {
     "data": {
      "text/plain": [
       "Text(0, 0.5, 'cost')"
      ]
     },
     "execution_count": 42,
     "metadata": {},
     "output_type": "execute_result"
    },
    {
     "data": {
      "image/png": "[encoded data removed]",
      "text/plain": [
       "<Figure size 640x480 with 1 Axes>"
      ]
     },
     "metadata": {},
     "output_type": "display_data"
    }
   ],
   "source": [
    "plt.plot(x_train, cost_sum)\n",
    "plt.xlabel(\"train_cnt\")\n",
    "plt.ylabel(\"cost\")"
   ]
  },
  {
   "cell_type": "code",
   "execution_count": null,
   "id": "ba5e56a5-68ff-4eff-9dc6-170fa7226aa5",
   "metadata": {},
   "outputs": [],
   "source": []
  }
 ],
 "metadata": {
  "kernelspec": {
   "display_name": "demo",
   "language": "python",
   "name": "demo"
  },
  "language_info": {
   "codemirror_mode": {
    "name": "ipython",
    "version": 3
   },
   "file_extension": ".py",
   "mimetype": "text/x-python",
   "name": "python",
   "nbconvert_exporter": "python",
   "pygments_lexer": "ipython3",
   "version": "3.12.2"
  }
 },
 "nbformat": 4,
 "nbformat_minor": 5
}
