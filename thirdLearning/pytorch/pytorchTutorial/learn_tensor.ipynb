{
 "cells": [
  {
   "cell_type": "code",
   "execution_count": 22,
   "id": "a9060633-669e-471e-b7cb-cfab5f0aa286",
   "metadata": {},
   "outputs": [],
   "source": [
    "import torch\n",
    "import numpy as np"
   ]
  },
  {
   "cell_type": "code",
   "execution_count": 23,
   "id": "8a1da81d-2795-49b3-ad70-0360f146c320",
   "metadata": {},
   "outputs": [
    {
     "data": {
      "text/plain": "tensor([[0., 0., 0.],\n        [0., 0., 0.],\n        [0., 0., 0.],\n        [0., 0., 0.],\n        [0., 0., 0.]])"
     },
     "execution_count": 23,
     "metadata": {},
     "output_type": "execute_result"
    }
   ],
   "source": [
    "x = torch.empty(5, 3)\n",
    "x"
   ]
  },
  {
   "cell_type": "code",
   "execution_count": 24,
   "id": "fcb5a6b0-8184-40ae-be6f-a13ba526ff5e",
   "metadata": {},
   "outputs": [
    {
     "data": {
      "text/plain": "tensor([[0.4859, 0.1417, 0.5152],\n        [0.4977, 0.5263, 0.2091],\n        [0.2178, 0.1513, 0.5755],\n        [0.4877, 0.7202, 0.5517],\n        [0.6509, 0.6952, 0.0580]])"
     },
     "execution_count": 24,
     "metadata": {},
     "output_type": "execute_result"
    }
   ],
   "source": [
    "randM = torch.rand(5, 3)\n",
    "randM"
   ]
  },
  {
   "cell_type": "code",
   "execution_count": 25,
   "id": "b200e0c9-3787-4d0f-b920-1fde0f5c7738",
   "metadata": {},
   "outputs": [
    {
     "data": {
      "text/plain": "torch.Size([5, 3])"
     },
     "execution_count": 25,
     "metadata": {},
     "output_type": "execute_result"
    }
   ],
   "source": [
    "randM.shape"
   ]
  },
  {
   "cell_type": "code",
   "execution_count": 26,
   "id": "1c21474f-7382-43f2-8592-809844e5899b",
   "metadata": {},
   "outputs": [
    {
     "data": {
      "text/plain": "tensor([[0., 0., 0.],\n        [0., 0., 0.],\n        [0., 0., 0.],\n        [0., 0., 0.],\n        [0., 0., 0.]], dtype=torch.float64)"
     },
     "execution_count": 26,
     "metadata": {},
     "output_type": "execute_result"
    }
   ],
   "source": [
    "zeroM = torch.zeros(5, 3, dtype=torch.double)\n",
    "zeroM"
   ]
  },
  {
   "cell_type": "code",
   "execution_count": 27,
   "id": "b5cce16c-2297-4acb-8ab8-98f0467440be",
   "metadata": {},
   "outputs": [
    {
     "data": {
      "text/plain": "tensor([ 0.5156, -0.6471,  0.3333,  0.8251,  0.2850, -2.3995, -1.5600,  0.4555,\n        -0.4167, -0.7160, -0.5209, -0.5876,  0.6272,  0.2266, -0.3497, -1.8644])"
     },
     "execution_count": 27,
     "metadata": {},
     "output_type": "execute_result"
    }
   ],
   "source": [
    "# view 改变矩阵维度\n",
    "x = torch.randn(4, 4)\n",
    "y = x.view(16)\n",
    "y"
   ]
  },
  {
   "cell_type": "code",
   "execution_count": 28,
   "outputs": [
    {
     "data": {
      "text/plain": "tensor([[ 0.5156, -0.6471,  0.3333,  0.8251,  0.2850, -2.3995, -1.5600,  0.4555],\n        [-0.4167, -0.7160, -0.5209, -0.5876,  0.6272,  0.2266, -0.3497, -1.8644]])"
     },
     "execution_count": 28,
     "metadata": {},
     "output_type": "execute_result"
    }
   ],
   "source": [
    "z = x.view(-1, 8)\n",
    "z"
   ],
   "metadata": {
    "collapsed": false,
    "pycharm": {
     "name": "#%%\n"
    }
   }
  },
  {
   "cell_type": "code",
   "execution_count": 29,
   "outputs": [
    {
     "data": {
      "text/plain": "(5, 3)"
     },
     "execution_count": 29,
     "metadata": {},
     "output_type": "execute_result"
    }
   ],
   "source": [
    "# work with numpy\n",
    "\n",
    "x = torch.randn(5, 3)\n",
    "x_np = x.numpy()\n",
    "x_np\n",
    "x_np.shape"
   ],
   "metadata": {
    "collapsed": false,
    "pycharm": {
     "name": "#%%\n"
    }
   }
  },
  {
   "cell_type": "code",
   "execution_count": 38,
   "outputs": [
    {
     "data": {
      "text/plain": "torch.Size([5, 3])"
     },
     "execution_count": 38,
     "metadata": {},
     "output_type": "execute_result"
    }
   ],
   "source": [
    "# work with numpy\n",
    "\n",
    "x_tensor = torch.from_numpy(np.ones((5, 3)))\n",
    "x_tensor.size()"
   ],
   "metadata": {
    "collapsed": false,
    "pycharm": {
     "name": "#%%\n"
    }
   }
  }
 ],
 "metadata": {
  "kernelspec": {
   "display_name": "demo",
   "language": "python",
   "name": "demo"
  },
  "language_info": {
   "codemirror_mode": {
    "name": "ipython",
    "version": 3
   },
   "file_extension": ".py",
   "mimetype": "text/x-python",
   "name": "python",
   "nbconvert_exporter": "python",
   "pygments_lexer": "ipython3",
   "version": "3.8.18"
  }
 },
 "nbformat": 4,
 "nbformat_minor": 5
}