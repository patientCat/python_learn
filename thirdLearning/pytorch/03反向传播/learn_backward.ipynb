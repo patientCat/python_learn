{
 "cells": [
  {
   "cell_type": "code",
   "execution_count": 4,
   "id": "275d39f8-518f-460d-95a7-78508aca93b4",
   "metadata": {
    "slideshow": {
     "slide_type": ""
    },
    "tags": []
   },
   "outputs": [],
   "source": [
    "import numpy as np\n",
    "import matplotlib.pyplot as plt\n",
    "import torch"
   ]
  },
  {
   "cell_type": "code",
   "execution_count": 3,
   "id": "9f168d61-e51a-445d-ac54-54dabb522f22",
   "metadata": {},
   "outputs": [
    {
     "data": {
      "text/plain": [
       "'\\n利用梯度下降法\\n使用随机梯度下降，并加入mini-batch\\n'"
      ]
     },
     "execution_count": 3,
     "metadata": {},
     "output_type": "execute_result"
    }
   ],
   "source": [
    "\"\"\"\n",
    "使用pytorch 实现反向传播， 利用的模型是 y = w * x\n",
    "\"\"\""
   ]
  },
  {
   "cell_type": "code",
   "execution_count": 12,
   "id": "5883e69c-d6c7-4c64-b7ba-20f1871596a0",
   "metadata": {},
   "outputs": [
    {
     "name": "stdout",
     "output_type": "stream",
     "text": [
      "[[ 1.  2.]\n",
      " [ 2.  4.]\n",
      " [ 3.  6.]\n",
      " [ 4.  8.]\n",
      " [ 5. 10.]\n",
      " [ 6. 12.]]\n"
     ]
    }
   ],
   "source": [
    "input = np.loadtxt(\"data.txt\",delimiter=',')\n",
    "print(input)"
   ]
  },
  {
   "cell_type": "code",
   "execution_count": 14,
   "id": "99f66182-59ab-4b2d-8c41-3094c0faee97",
   "metadata": {},
   "outputs": [],
   "source": [
    "n_row = input.shape[0]\n"
   ]
  },
  {
   "cell_type": "code",
   "execution_count": 20,
   "id": "5df2fa67-c750-45ad-9077-e49276c50ee8",
   "metadata": {},
   "outputs": [],
   "source": [
    "# init w with torch.tensor \n",
    "X = input[:, 0:-1]\n",
    "Y = input[:, -1]\n",
    "\n"
   ]
  },
  {
   "cell_type": "code",
   "execution_count": 27,
   "id": "ed494d41-825d-416c-aaa4-c4a900bc37bc",
   "metadata": {},
   "outputs": [],
   "source": [
    "def forward(w, x):\n",
    "    return w * torch.from_numpy(x)\n",
    "\n",
    "def loss(y_pred, y):\n",
    "    return (y_pred - y) ** 2"
   ]
  },
  {
   "cell_type": "code",
   "execution_count": 46,
   "id": "ed55f6f0-90ea-4d7e-9384-73b968e5ee20",
   "metadata": {},
   "outputs": [],
   "source": [
    "# 设定训练值\n",
    "epoch = 20\n",
    "cost_sum = np.zeros(epoch)\n",
    "alpha = 0.01\n"
   ]
  },
  {
   "cell_type": "code",
   "execution_count": 47,
   "id": "58f0700a-1192-4214-be53-c3a0d54d51c5",
   "metadata": {},
   "outputs": [
    {
     "name": "stdout",
     "output_type": "stream",
     "text": [
      "cost 1.0\n",
      "cost 3.8416001495361343\n",
      "cost 7.315943092621765\n",
      "cost 8.745316980912548\n",
      "cost 6.318490559823786\n",
      "cost 2.2746576802828713\n",
      "cost 0.0049536929071933855\n",
      "cost 0.01903012114377134\n",
      "cost 0.03624099538548364\n",
      "cost 0.04332162097944092\n",
      "cost 0.031299947082530366\n",
      "cost 0.011268056874769172\n",
      "cost 2.453956007286706e-05\n",
      "cost 9.427163695363561e-05\n",
      "cost 0.00017953013872329393\n",
      "cost 0.00021460466177813942\n",
      "cost 0.000155052461892069\n",
      "cost 5.582423023042793e-05\n",
      "cost 1.2158274387275014e-07\n",
      "cost 4.6690934141224716e-07\n",
      "cost 8.893710088386797e-07\n",
      "cost 1.0628000381984748e-06\n",
      "cost 7.677058988520002e-07\n",
      "cost 2.763741235867201e-07\n",
      "cost 6.030518306943122e-10\n",
      "cost 2.3194388631964102e-09\n",
      "cost 4.424748567544157e-09\n",
      "cost 5.322590368450619e-09\n",
      "cost 3.842615114990622e-09\n",
      "cost 1.3833414413966238e-09\n",
      "cost 3.197442310920451e-12\n",
      "cost 1.2789769243681803e-11\n",
      "cost 2.5067947717616335e-11\n",
      "cost 2.751221472863108e-11\n",
      "cost 1.7408297026122455e-11\n",
      "cost 8.185452315956354e-12\n",
      "cost 1.4210854715202004e-14\n",
      "cost 5.684341886080802e-14\n",
      "cost 1.2789769243681803e-13\n",
      "cost 2.2737367544323206e-13\n",
      "cost 3.552713678800501e-13\n",
      "cost 0.0\n",
      "cost 0.0\n",
      "cost 0.0\n",
      "cost 0.0\n",
      "cost 0.0\n",
      "cost 0.0\n",
      "cost 0.0\n",
      "cost 0.0\n",
      "cost 0.0\n",
      "cost 0.0\n",
      "cost 0.0\n",
      "cost 0.0\n",
      "cost 0.0\n",
      "cost 0.0\n",
      "cost 0.0\n",
      "cost 0.0\n",
      "cost 0.0\n",
      "cost 0.0\n",
      "cost 0.0\n",
      "cost 0.0\n",
      "cost 0.0\n",
      "cost 0.0\n",
      "cost 0.0\n",
      "cost 0.0\n",
      "cost 0.0\n",
      "cost 0.0\n",
      "cost 0.0\n",
      "cost 0.0\n",
      "cost 0.0\n",
      "cost 0.0\n",
      "cost 0.0\n",
      "cost 0.0\n",
      "cost 0.0\n",
      "cost 0.0\n",
      "cost 0.0\n",
      "cost 0.0\n",
      "cost 0.0\n",
      "cost 0.0\n",
      "cost 0.0\n",
      "cost 0.0\n",
      "cost 0.0\n",
      "cost 0.0\n",
      "cost 0.0\n",
      "cost 0.0\n",
      "cost 0.0\n",
      "cost 0.0\n",
      "cost 0.0\n",
      "cost 0.0\n",
      "cost 0.0\n",
      "cost 0.0\n",
      "cost 0.0\n",
      "cost 0.0\n",
      "cost 0.0\n",
      "cost 0.0\n",
      "cost 0.0\n",
      "cost 0.0\n",
      "cost 0.0\n",
      "cost 0.0\n",
      "cost 0.0\n",
      "cost 0.0\n",
      "cost 0.0\n",
      "cost 0.0\n",
      "cost 0.0\n",
      "cost 0.0\n",
      "cost 0.0\n",
      "cost 0.0\n",
      "cost 0.0\n",
      "cost 0.0\n",
      "cost 0.0\n",
      "cost 0.0\n",
      "cost 0.0\n",
      "cost 0.0\n",
      "cost 0.0\n",
      "cost 0.0\n",
      "cost 0.0\n",
      "cost 0.0\n",
      "cost 0.0\n",
      "cost 0.0\n",
      "cost 0.0\n"
     ]
    }
   ],
   "source": [
    "# 构造神经网络\n",
    "w = torch.tensor([1.0])\n",
    "w.requires_grad = True\n",
    "for i in range(0, epoch):\n",
    "    temp_cost = 0\n",
    "    for x, y in zip(X, Y):\n",
    "        y_pred = forward(w, x)\n",
    "        \n",
    "        cost = loss(y_pred, y)\n",
    "        #print(f\"cost={cost.data}\")\n",
    "        cost.backward()\n",
    "        w.data = w.data - alpha * w.grad.data\n",
    "        w.grad.data.zero_()\n",
    "        #print(\"cost\", cost.item())\n",
    "        temp_cost += cost.item()\n",
    "        \n",
    "    cost_sum[i] = temp_cost\n",
    "   "
   ]
  },
  {
   "cell_type": "code",
   "execution_count": 51,
   "id": "4fe28bdb-2304-401d-8fd8-b8be2aea59b6",
   "metadata": {},
   "outputs": [
    {
     "data": {
      "text/plain": [
       "array([2.94960085e+01, 1.46114434e-01, 7.23822690e-04, 3.58474315e-06,\n",
       "       1.78957862e-08, 9.41611233e-11, 7.81597009e-13, 0.00000000e+00,\n",
       "       0.00000000e+00, 0.00000000e+00, 0.00000000e+00, 0.00000000e+00,\n",
       "       0.00000000e+00, 0.00000000e+00, 0.00000000e+00, 0.00000000e+00,\n",
       "       0.00000000e+00, 0.00000000e+00, 0.00000000e+00, 0.00000000e+00])"
      ]
     },
     "execution_count": 51,
     "metadata": {},
     "output_type": "execute_result"
    }
   ],
   "source": [
    "cost_sum\n"
   ]
  },
  {
   "cell_type": "code",
   "execution_count": null,
   "id": "9aedb2bb-88be-4064-8f47-7e6c54a86d05",
   "metadata": {},
   "outputs": [],
   "source": [
    "x_train = np.arange(epoch)\n",
    "print(cost_sum.shape, x_train.shape)\n"
   ]
  },
  {
   "cell_type": "code",
   "execution_count": 49,
   "id": "db303c07-567f-42c3-97d2-57b3e0336be7",
   "metadata": {},
   "outputs": [
    {
     "data": {
      "text/plain": [
       "Text(0, 0.5, 'cost')"
      ]
     },
     "execution_count": 49,
     "metadata": {},
     "output_type": "execute_result"
    },
    {
     "data": {
      "image/png": "[encoded data removed]",
      "text/plain": [
       "<Figure size 640x480 with 1 Axes>"
      ]
     },
     "metadata": {},
     "output_type": "display_data"
    }
   ],
   "source": [
    "plt.plot(x_train, cost_sum)\n",
    "plt.xlabel(\"train_cnt\")\n",
    "plt.ylabel(\"cost\")"
   ]
  },
  {
   "cell_type": "code",
   "execution_count": null,
   "id": "725ecdeb-979c-4613-b011-ae00e0b5e286",
   "metadata": {},
   "outputs": [],
   "source": []
  }
 ],
 "metadata": {
  "kernelspec": {
   "display_name": "demo",
   "language": "python",
   "name": "demo"
  },
  "language_info": {
   "codemirror_mode": {
    "name": "ipython",
    "version": 3
   },
   "file_extension": ".py",
   "mimetype": "text/x-python",
   "name": "python",
   "nbconvert_exporter": "python",
   "pygments_lexer": "ipython3",
   "version": "3.12.2"
  }
 },
 "nbformat": 4,
 "nbformat_minor": 5
}
