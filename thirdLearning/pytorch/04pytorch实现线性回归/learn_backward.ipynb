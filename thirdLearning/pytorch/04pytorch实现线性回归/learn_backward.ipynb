{
 "cells": [
  {
   "cell_type": "code",
   "execution_count": 1,
   "id": "275d39f8-518f-460d-95a7-78508aca93b4",
   "metadata": {
    "pycharm": {
     "is_executing": true
    },
    "slideshow": {
     "slide_type": ""
    },
    "tags": []
   },
   "outputs": [],
   "source": [
    "import numpy as np\n",
    "import matplotlib.pyplot as plt\n",
    "import torch"
   ]
  },
  {
   "cell_type": "code",
   "execution_count": 2,
   "id": "9f168d61-e51a-445d-ac54-54dabb522f22",
   "metadata": {},
   "outputs": [
    {
     "data": {
      "text/plain": [
       "'\\n真正开始使用torch去生成网络，不再手动计算了\\n'"
      ]
     },
     "execution_count": 2,
     "metadata": {},
     "output_type": "execute_result"
    }
   ],
   "source": [
    "\"\"\"\n",
    "真正开始使用torch去生成网络，不再手动计算了\n",
    "\"\"\""
   ]
  },
  {
   "cell_type": "code",
   "execution_count": null,
   "id": "b7ad53e8",
   "metadata": {},
   "outputs": [],
   "source": []
  },
  {
   "cell_type": "code",
   "execution_count": 3,
   "id": "5883e69c-d6c7-4c64-b7ba-20f1871596a0",
   "metadata": {},
   "outputs": [
    {
     "name": "stdout",
     "output_type": "stream",
     "text": [
      "[[ 1.  2.]\n",
      " [ 2.  4.]\n",
      " [ 3.  6.]\n",
      " [ 4.  8.]\n",
      " [ 5. 10.]\n",
      " [ 6. 12.]]\n"
     ]
    }
   ],
   "source": [
    "input = np.loadtxt(\"data.txt\",delimiter=',',dtype=np.double)\n",
    "print(input)"
   ]
  },
  {
   "cell_type": "code",
   "execution_count": 4,
   "id": "99f66182-59ab-4b2d-8c41-3094c0faee97",
   "metadata": {},
   "outputs": [],
   "source": [
    "n_row = input.shape[0]"
   ]
  },
  {
   "cell_type": "code",
   "execution_count": 5,
   "id": "3266ca79-59de-4871-a9ad-caf61c4c9c4b",
   "metadata": {},
   "outputs": [],
   "source": [
    "class LinearModel(torch.nn.Module):\n",
    "    def __init__(self):\n",
    "        super().__init__()\n",
    "        self.linear = torch.nn.Linear(1, 1)\n",
    "    def forward(self, x):\n",
    "        y_pred = self.linear(x)\n",
    "        return y_pred\n",
    "\n",
    "        \n",
    "    "
   ]
  },
  {
   "cell_type": "code",
   "execution_count": 6,
   "id": "40838cfc-d235-4ea9-8830-6f7daa0126b2",
   "metadata": {},
   "outputs": [
    {
     "name": "stderr",
     "output_type": "stream",
     "text": [
      "/Users/luke/miniconda3/envs/demo/lib/python3.8/site-packages/torch/nn/_reduction.py:42: UserWarning: size_average and reduce args will be deprecated, please use reduction='sum' instead.\n",
      "  warnings.warn(warning.format(ret))\n"
     ]
    }
   ],
   "source": [
    "model = LinearModel()\n",
    "criterion = torch.nn.MSELoss(size_average=False)\n",
    "optimizer = torch.optim.SGD(model.parameters(), lr=0.01)\n"
   ]
  },
  {
   "cell_type": "code",
   "execution_count": 7,
   "id": "d4d2c41c-fd63-4a24-8b96-202c386c4bd1",
   "metadata": {},
   "outputs": [],
   "source": [
    "x_data_np = input[:,0:1]\n",
    "y_data_np = input[:,1:]"
   ]
  },
  {
   "cell_type": "code",
   "execution_count": 8,
   "id": "b2eb4e7c-0887-470a-be02-b33bb9126c9d",
   "metadata": {},
   "outputs": [
    {
     "name": "stdout",
     "output_type": "stream",
     "text": [
      "x_data=tensor([[1.],\n",
      "        [2.],\n",
      "        [3.],\n",
      "        [4.],\n",
      "        [5.],\n",
      "        [6.]], dtype=torch.float64), y_data=tensor([[ 2.],\n",
      "        [ 4.],\n",
      "        [ 6.],\n",
      "        [ 8.],\n",
      "        [10.],\n",
      "        [12.]], dtype=torch.float64)\n"
     ]
    }
   ],
   "source": [
    "x_data = torch.from_numpy(x_data_np)\n",
    "y_data = torch.from_numpy(y_data_np)\n",
    "print(f\"x_data={x_data}, y_data={y_data}\")"
   ]
  },
  {
   "cell_type": "code",
   "execution_count": 11,
   "id": "e1332819-15bf-4b3b-bf0e-9dd2451f49b0",
   "metadata": {},
   "outputs": [],
   "source": [
    "epoch = 100"
   ]
  },
  {
   "cell_type": "code",
   "execution_count": 14,
   "id": "626c8b47-f1d3-451c-9970-73e66604d287",
   "metadata": {},
   "outputs": [],
   "source": [
    "\"\"\"\n",
    "为什么x_data, y_data 要为 N x 1, 和这里的定义有关 torch.nn.Linear(1, 1)\n",
    "\"\"\"\n",
    "x_data = torch.tensor([[1.0], [2.0], [3.0]])\n",
    "y_data = torch.tensor([[2.0], [4.0], [6.0]])"
   ]
  },
  {
   "cell_type": "code",
   "execution_count": 15,
   "id": "62ce6fb1-607a-44cb-b131-43338965f6d7",
   "metadata": {},
   "outputs": [],
   "source": [
    "for i in range(epoch):\n",
    "    y_pred = model(x_data)\n",
    "    loss = criterion(y_pred, y_data)\n",
    "    optimizer.zero_grad()\n",
    "    loss.backward()\n",
    "    optimizer.step()"
   ]
  },
  {
   "cell_type": "code",
   "execution_count": 16,
   "id": "725ecdeb-979c-4613-b011-ae00e0b5e286",
   "metadata": {},
   "outputs": [
    {
     "name": "stdout",
     "output_type": "stream",
     "text": [
      "w = 1.8211590051651\n",
      "b = 0.40654751658439636\n"
     ]
    }
   ],
   "source": [
    "print('w =', model.linear.weight.item())\n",
    "print('b =', model.linear.bias.item())"
   ]
  },
  {
   "cell_type": "code",
   "execution_count": null,
   "id": "45e4b334-478d-4fce-ae3e-a9f7033ccb2b",
   "metadata": {},
   "outputs": [],
   "source": []
  }
 ],
 "metadata": {
  "kernelspec": {
   "display_name": "demo",
   "language": "python",
   "name": "demo"
  },
  "language_info": {
   "codemirror_mode": {
    "name": "ipython",
    "version": 3
   },
   "file_extension": ".py",
   "mimetype": "text/x-python",
   "name": "python",
   "nbconvert_exporter": "python",
   "pygments_lexer": "ipython3",
   "version": "3.8.18"
  }
 },
 "nbformat": 4,
 "nbformat_minor": 5
}